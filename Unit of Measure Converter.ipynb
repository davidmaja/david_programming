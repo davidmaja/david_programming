{
 "cells": [
  {
   "cell_type": "code",
   "execution_count": 6,
   "id": "e857c601-af6e-405f-8330-60a8979cfb84",
   "metadata": {},
   "outputs": [
    {
     "name": "stdin",
     "output_type": "stream",
     "text": [
      "Enter Starting Unit of Measurement (inches, feet, yards):  inches \n",
      "Enter Unit of Measurement to Convert to (inches, feet, yards):  feet\n",
      "Enter Starting Measurement in Inches:  45\n",
      "Enter Starting Measurement in Feet:  34\n",
      "Enter Starting Measurement in Yards:  34\n"
     ]
    }
   ],
   "source": [
    "convert_from = input(\"Enter Starting Unit of Measurement (inches, feet, yards): \")\n",
    "\n",
    "convert_to = input(\"Enter Unit of Measurement to Convert to (inches, feet, yards): \")\n",
    "\n",
    "numnber_of_inches = input(\"Enter Starting Measurement in Inches: \")\n",
    "\n",
    "number_of_feet = input(\"Enter Starting Measurement in Feet: \")\n",
    "\n",
    "number_of_yards = input(\"Enter Starting Measurement in Yards: \")"
   ]
  },
  {
   "cell_type": "code",
   "execution_count": 22,
   "id": "71e80412-8521-4454-853c-933233cfe21a",
   "metadata": {},
   "outputs": [
    {
     "name": "stdin",
     "output_type": "stream",
     "text": [
      "Enter Starting Unit of Measurement (inches, feet, yards):  yards\n",
      "Enter Unit of Measurement to Convert to (inches, feet, yards):  feet\n",
      "Enter Starting Measurement in Yards:  9\n"
     ]
    },
    {
     "name": "stdout",
     "output_type": "stream",
     "text": [
      "Result:9 Yards = 27 Feet\n"
     ]
    }
   ],
   "source": [
    "convert_from = input(\"Enter Starting Unit of Measurement (inches, feet, yards): \")\n",
    "\n",
    "convert_to = input(\"Enter Unit of Measurement to Convert to (inches, feet, yards): \")\n",
    "\n",
    "if convert_from.lower() in [\"inches\",\"in\",\"inch\"]: \n",
    "    number_of_inches = int(input(\"Enter Starting Measurement in Inches: \"))\n",
    "    if convert_to.lower() in [\"feet\", \"foot\",\"ft\"]: \n",
    "        print(\"Result:\" + str(number_of_inches) + \" Inches = \" + str(number_of_inches / 12) + \" Feet\")\n",
    "    elif convert_to.lower() in [\"yards\",\"yard\",\"yds\",\"yd\"]: \n",
    "        print(\"Result:\" + str(number_of_inches) + \" Inches = \" + str(number_of_inches / 36) + \" Yards\")\n",
    "    else: \n",
    "        print(\"Please Enter either Inches, Feet, or Yards \")\n",
    "elif convert_from.lower() in [\"feet\", \"foot\",\"ft\"]: \n",
    "    number_of_feet = int(input(\"Enter Starting Measurement in Feet: \"))\n",
    "    if convert_to .lower() in [\"inches\",\"in\",\"inch\"]: \n",
    "        print(\"Result:\" + str(number_of_feet) + \" Feet = \" + str(number_of_feet * 12) + \" Inches\")\n",
    "    elif convert_to.lower() in [\"yards\",\"yard\",\"yds\",\"yd\"]: \n",
    "        print(\"Result:\" + str(number_of_feet) + \" Feet = \" + str(number_of_feet / 3) + \" Yards\")\n",
    "    else: \n",
    "        print(\"Please Enter either Inches, Feet, or Yards \")\n",
    "elif convert_from.lower() in [\"yards\",\"yard\",\"yds\",\"yd\"]: \n",
    "    number_of_yards = int(input(\"Enter Starting Measurement in Yards: \"))\n",
    "    if convert_to.lower() in [\"feet\", \"foot\",\"ft\"]: \n",
    "        print(\"Result:\" + str(number_of_yards) + \" Yards = \" + str(number_of_yards * 3) + \" Feet\")\n",
    "    elif convert_to .lower() in [\"inches\",\"in\",\"inch\"]: \n",
    "        print(\"Result:\" + str(number_of_yards) + \" Yards = \" + str(number_of_yards * 36) + \" Inches\")\n",
    "    else: \n",
    "        print(\"Your input was incorrect\")\n",
    "else: \n",
    "    print(\"Please Enter either Inches, Feet, or Yards \")"
   ]
  },
  {
   "cell_type": "code",
   "execution_count": null,
   "id": "78cfb0df-4732-4692-ae1b-21aaae464062",
   "metadata": {},
   "outputs": [],
   "source": [
    "xxz"
   ]
  },
  {
   "cell_type": "code",
   "execution_count": null,
   "id": "afd3f4e4-e14b-4aa7-8d3c-460167009c83",
   "metadata": {},
   "outputs": [],
   "source": []
  },
  {
   "cell_type": "code",
   "execution_count": null,
   "id": "8aba068b-deaa-4da9-899b-c3c3edce43b9",
   "metadata": {},
   "outputs": [],
   "source": []
  },
  {
   "cell_type": "code",
   "execution_count": null,
   "id": "d4124983-4a36-4251-bfde-5d6fafc2ae11",
   "metadata": {},
   "outputs": [],
   "source": []
  },
  {
   "cell_type": "code",
   "execution_count": null,
   "id": "a554feba-0d9b-4660-808e-8e2cd37fda4e",
   "metadata": {},
   "outputs": [],
   "source": []
  }
 ],
 "metadata": {
  "kernelspec": {
   "display_name": "Python 3 (ipykernel)",
   "language": "python",
   "name": "python3"
  },
  "language_info": {
   "codemirror_mode": {
    "name": "ipython",
    "version": 3
   },
   "file_extension": ".py",
   "mimetype": "text/x-python",
   "name": "python",
   "nbconvert_exporter": "python",
   "pygments_lexer": "ipython3",
   "version": "3.12.7"
  }
 },
 "nbformat": 4,
 "nbformat_minor": 5
}
