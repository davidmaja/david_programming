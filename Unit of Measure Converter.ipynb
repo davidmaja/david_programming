{
 "cells": [
  {
   "cell_type": "code",
   "execution_count": 6,
   "id": "e857c601-af6e-405f-8330-60a8979cfb84",
   "metadata": {},
   "outputs": [
    {
     "name": "stdin",
     "output_type": "stream",
     "text": [
      "Enter Starting Unit of Measurement (inches, feet, yards):  inches \n",
      "Enter Unit of Measurement to Convert to (inches, feet, yards):  feet\n",
      "Enter Starting Measurement in Inches:  45\n",
      "Enter Starting Measurement in Feet:  34\n",
      "Enter Starting Measurement in Yards:  34\n"
     ]
    }
   ],
   "source": [
    "convert_from = input(\"Enter Starting Unit of Measurement (inches, feet, yards): \")\n",
    "\n",
    "convert_to = input(\"Enter Unit of Measurement to Convert to (inches, feet, yards): \")\n",
    "\n",
    "numnber_of_inches = input(\"Enter Starting Measurement in Inches: \")\n",
    "\n",
    "number_of_feet = input(\"Enter Starting Measurement in Feet: \")\n",
    "\n",
    "number_of_yards = input(\"Enter Starting Measurement in Yards: \")"
   ]
  },
  {
   "cell_type": "code",
   "execution_count": 5,
   "id": "71e80412-8521-4454-853c-933233cfe21a",
   "metadata": {},
   "outputs": [
    {
     "name": "stdin",
     "output_type": "stream",
     "text": [
      "Enter Starting Unit of Measurement (inches, feet, yards):  feet\n",
      "Enter Unit of Measurement to Convert to (inches, feet, yards):  inches\n",
      "Enter Starting Measurement in Feet:  6\n"
     ]
    },
    {
     "name": "stdout",
     "output_type": "stream",
     "text": [
      "Result:6 Feet = 72 Inches\n"
     ]
    }
   ],
   "source": [
    "convert_from = input(\"Enter Starting Unit of Measurement (inches, feet, yards): \")\n",
    "\n",
    "convert_to = input(\"Enter Unit of Measurement to Convert to (inches, feet, yards): \")\n",
    "\n",
    "if convert_from.lower() in [\"inches\",\"in\",\"inch\"]: \n",
    "    number_of_inches = int(input(\"Enter Starting Measurement in Inches: \"))\n",
    "    if convert_to.lower() in [\"feet\", \"foot\",\"ft\"]: \n",
    "        print(\"Result:\" + str(number_of_inches) + \" Inches = \" + str(number_of_inches / 12) + \" Feet\")\n",
    "    elif convert_to.lower() in [\"yards\",\"yard\",\"yds\",\"yd\"]: \n",
    "        print(\"Result:\" + str(number_of_inches) + \" Inches = \" + str(number_of_inches / 36) + \" Yards\")\n",
    "    else: \n",
    "        print(\"Please Enter either Inches, Feet, or Yards \")\n",
    "elif convert_from.lower() in [\"feet\", \"foot\",\"ft\"]: \n",
    "    number_of_feet = int(input(\"Enter Starting Measurement in Feet: \"))\n",
    "    if convert_to .lower() in [\"inches\",\"in\",\"inch\"]: \n",
    "        print(\"Result:\" + str(number_of_feet) + \" Feet = \" + str(number_of_feet * 12) + \" Inches\")\n",
    "    elif convert_to.lower() in [\"yards\",\"yard\",\"yds\",\"yd\"]: \n",
    "        print(\"Result:\" + str(number_of_feet) + \" Feet = \" + str(number_of_feet / 3) + \" Yards\")\n",
    "    else: \n",
    "        print(\"Please Enter either Inches, Feet, or Yards \")\n",
    "elif convert_from.lower() in [\"yards\",\"yard\",\"yds\",\"yd\"]: \n",
    "    number_of_yards = int(input(\"Enter Starting Measurement in Yards: \"))\n",
    "    if convert_to.lower() in [\"feet\", \"foot\",\"ft\"]: \n",
    "        print(\"Result:\" + str(number_of_yards) + \" Yards = \" + str(number_of_yards * 3) + \" Feet\")\n",
    "    elif convert_to .lower() in [\"inches\",\"in\",\"inch\"]: \n",
    "        print(\"Result:\" + str(number_of_yards) + \" Yards = \" + str(number_of_yards * 36) + \" Inches\")\n",
    "    else: \n",
    "        print(\"Your input was incorrect\")\n",
    "else: \n",
    "    print(\"Please Enter either Inches, Feet, or Yards \")"
   ]
  },
  {
   "cell_type": "code",
   "execution_count": null,
   "id": "963fa774-767e-439b-862d-ec9e8da9fd52",
   "metadata": {},
   "outputs": [],
   "source": []
  }
 ],
 "metadata": {
  "kernelspec": {
   "display_name": "Python 3 (ipykernel)",
   "language": "python",
   "name": "python3"
  },
  "language_info": {
   "codemirror_mode": {
    "name": "ipython",
    "version": 3
   },
   "file_extension": ".py",
   "mimetype": "text/x-python",
   "name": "python",
   "nbconvert_exporter": "python",
   "pygments_lexer": "ipython3",
   "version": "3.12.7"
  }
 },
 "nbformat": 4,
 "nbformat_minor": 5
}
