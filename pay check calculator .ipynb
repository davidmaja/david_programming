{
 "cells": [
  {
   "cell_type": "code",
   "execution_count": 19,
   "id": "d3fc05bd-b3a2-4d2e-8cf3-bd2b36eefbf3",
   "metadata": {},
   "outputs": [
    {
     "name": "stdin",
     "output_type": "stream",
     "text": [
      "Enter Amount of Hours Worked :  50\n",
      "Enter Hourly Pay Rate :  10\n"
     ]
    }
   ],
   "source": [
    "hours_worked = int(input(\"Enter Amount of Hours Worked : \"))\n",
    "\n",
    "pay_rate = int(input(\"Enter Hourly Pay Rate : \"))\n",
    "\n",
    "\n"
   ]
  },
  {
   "cell_type": "code",
   "execution_count": null,
   "id": "5e5bb598-9a9a-440b-b6ec-44aab202f33b",
   "metadata": {},
   "outputs": [],
   "source": [
    "try:\n",
    "    hours_worked = int(input(\"Enter Amount of Hours Worked : \"))\n",
    "\n",
    "    pay_rate = int(input(\"Enter Hourly Pay Rate : \"))\n",
    "\n",
    "\n",
    "    if hours_worked > 40:\n",
    "        regular_pay = (pay_rate * 40)\n",
    "        overtime_pay = (hours_worked - 40) * (pay_rate * 1.5)\n",
    "        total_pay = regular_pay + overtime_pay\n",
    "    else:\n",
    "        total_pay = hours * rate\n",
    "\n",
    "    print(total_pay)\n",
    "\n",
    "except:\n",
    "    print(\"Error, please enter numeric input\")\n"
   ]
  },
  {
   "cell_type": "code",
   "execution_count": null,
   "id": "69f438ac-66b8-4316-93d3-59adf6bd4764",
   "metadata": {},
   "outputs": [],
   "source": []
  },
  {
   "cell_type": "code",
   "execution_count": null,
   "id": "3979bdc9-41d4-4c63-ad14-6b20cc0f8a0f",
   "metadata": {},
   "outputs": [],
   "source": []
  },
  {
   "cell_type": "code",
   "execution_count": null,
   "id": "148b234c-e562-4102-a657-80b307635f1c",
   "metadata": {},
   "outputs": [],
   "source": []
  }
 ],
 "metadata": {
  "kernelspec": {
   "display_name": "Python 3 (ipykernel)",
   "language": "python",
   "name": "python3"
  },
  "language_info": {
   "codemirror_mode": {
    "name": "ipython",
    "version": 3
   },
   "file_extension": ".py",
   "mimetype": "text/x-python",
   "name": "python",
   "nbconvert_exporter": "python",
   "pygments_lexer": "ipython3",
   "version": "3.12.7"
  }
 },
 "nbformat": 4,
 "nbformat_minor": 5
}
